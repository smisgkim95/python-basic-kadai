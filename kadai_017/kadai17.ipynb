{
  "nbformat": 4,
  "nbformat_minor": 0,
  "metadata": {
    "colab": {
      "provenance": []
    },
    "kernelspec": {
      "name": "python3",
      "display_name": "Python 3"
    },
    "language_info": {
      "name": "python"
    }
  },
  "cells": [
    {
      "cell_type": "code",
      "execution_count": 12,
      "metadata": {
        "id": "pgISVdBQp-iZ",
        "colab": {
          "base_uri": "https://localhost:8080/"
        },
        "outputId": "72210370-2d9a-4db1-f503-55cae1b7cfc4"
      },
      "outputs": [
        {
          "output_type": "stream",
          "name": "stdout",
          "text": [
            "侍太郎は大人。\n",
            "侍花子は大人。\n",
            "虎太郎は大人でない。\n"
          ]
        }
      ],
      "source": [
        "class Human:\n",
        "    def __init__(self, name, age):\n",
        "        self.name = name\n",
        "        self.age = age\n",
        "\n",
        "    def check_adult(self):\n",
        "        if self.age >= 20:\n",
        "            print(f\"{self.name}は大人。\")\n",
        "        else:\n",
        "            print(f\"{self.name}は大人でない。\")\n",
        "\n",
        "humans = [Human(\"侍太郎\", 36), Human(\"侍花子\", 20), Human(\"虎太郎\", 19)]\n",
        "\n",
        "for human in humans:\n",
        "    human.check_adult()\n"
      ]
    }
  ]
}