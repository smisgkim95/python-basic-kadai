{
  "nbformat": 4,
  "nbformat_minor": 0,
  "metadata": {
    "colab": {
      "provenance": []
    },
    "kernelspec": {
      "name": "python3",
      "display_name": "Python 3"
    },
    "language_info": {
      "name": "python"
    }
  },
  "cells": [
    {
      "cell_type": "code",
      "source": [
        "product_price = 1500\n",
        "product_fee = 0.1\n",
        "\n",
        "def total_price(price, fee):\n",
        "    sum = price * (1 + fee)\n",
        "    return sum\n",
        "\n",
        "total_price(product_price, product_fee)"
      ],
      "metadata": {
        "colab": {
          "base_uri": "https://localhost:8080/"
        },
        "id": "9YDk9GLCD_kw",
        "outputId": "437170f2-3848-4251-f0a3-81a89165e280"
      },
      "execution_count": 5,
      "outputs": [
        {
          "output_type": "execute_result",
          "data": {
            "text/plain": [
              "1650.0000000000002"
            ]
          },
          "metadata": {},
          "execution_count": 5
        }
      ]
    }
  ]
}