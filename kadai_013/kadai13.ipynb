{
  "nbformat": 4,
  "nbformat_minor": 0,
  "metadata": {
    "colab": {
      "provenance": []
    },
    "kernelspec": {
      "name": "python3",
      "display_name": "Python 3"
    },
    "language_info": {
      "name": "python"
    }
  },
  "cells": [
    {
      "cell_type": "code",
      "source": [
        "product_price = 1500\n",
        "product_fee = 0.1\n",
        "\n",
        "def total_price(price, fee):\n",
        "    return price * (1 + fee)\n",
        "\n",
        "\n",
        "total_price(product_price, product_fee)"
      ],
      "metadata": {
        "colab": {
          "base_uri": "https://localhost:8080/"
        },
        "id": "9YDk9GLCD_kw",
        "outputId": "a5783c48-d2a5-4d0c-cf2d-3c12ba217b01"
      },
      "execution_count": 2,
      "outputs": [
        {
          "output_type": "execute_result",
          "data": {
            "text/plain": [
              "1650.0000000000002"
            ]
          },
          "metadata": {},
          "execution_count": 2
        }
      ]
    }
  ]
}